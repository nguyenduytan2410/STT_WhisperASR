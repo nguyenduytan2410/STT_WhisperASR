{
 "cells": [
  {
   "cell_type": "markdown",
   "metadata": {},
   "source": [
    "Installing Required Libraries\n"
   ]
  },
  {
   "cell_type": "code",
   "execution_count": 2,
   "metadata": {},
   "outputs": [
    {
     "name": "stdout",
     "output_type": "stream",
     "text": [
      "Requirement already satisfied: torch in d:\\fe\\python\\python311\\lib\\site-packages (2.5.1+cu124)\n",
      "Requirement already satisfied: filelock in d:\\fe\\python\\python311\\lib\\site-packages (from torch) (3.13.1)\n",
      "Requirement already satisfied: typing-extensions>=4.8.0 in d:\\fe\\python\\python311\\lib\\site-packages (from torch) (4.12.2)\n",
      "Requirement already satisfied: networkx in d:\\fe\\python\\python311\\lib\\site-packages (from torch) (3.2.1)\n",
      "Requirement already satisfied: jinja2 in d:\\fe\\python\\python311\\lib\\site-packages (from torch) (3.1.5)\n",
      "Requirement already satisfied: fsspec in d:\\fe\\python\\python311\\lib\\site-packages (from torch) (2024.2.0)\n",
      "Requirement already satisfied: sympy==1.13.1 in d:\\fe\\python\\python311\\lib\\site-packages (from torch) (1.13.1)\n",
      "Requirement already satisfied: mpmath<1.4,>=1.1.0 in d:\\fe\\python\\python311\\lib\\site-packages (from sympy==1.13.1->torch) (1.3.0)\n",
      "Requirement already satisfied: MarkupSafe>=2.0 in d:\\fe\\python\\python311\\lib\\site-packages (from jinja2->torch) (3.0.2)\n",
      "Note: you may need to restart the kernel to use updated packages.\n"
     ]
    }
   ],
   "source": [
    "pip install torch"
   ]
  },
  {
   "cell_type": "code",
   "execution_count": 4,
   "metadata": {},
   "outputs": [
    {
     "name": "stdout",
     "output_type": "stream",
     "text": [
      "Requirement already satisfied: torch in d:\\fe\\python\\python311\\lib\\site-packages (2.6.0)\n",
      "Requirement already satisfied: filelock in d:\\fe\\python\\python311\\lib\\site-packages (from torch) (3.13.1)\n",
      "Requirement already satisfied: typing-extensions>=4.10.0 in d:\\fe\\python\\python311\\lib\\site-packages (from torch) (4.12.2)\n",
      "Requirement already satisfied: networkx in d:\\fe\\python\\python311\\lib\\site-packages (from torch) (3.2.1)\n",
      "Requirement already satisfied: jinja2 in d:\\fe\\python\\python311\\lib\\site-packages (from torch) (3.1.5)\n",
      "Requirement already satisfied: fsspec in d:\\fe\\python\\python311\\lib\\site-packages (from torch) (2024.2.0)\n",
      "Requirement already satisfied: sympy==1.13.1 in d:\\fe\\python\\python311\\lib\\site-packages (from torch) (1.13.1)\n",
      "Requirement already satisfied: mpmath<1.4,>=1.1.0 in d:\\fe\\python\\python311\\lib\\site-packages (from sympy==1.13.1->torch) (1.3.0)\n",
      "Requirement already satisfied: MarkupSafe>=2.0 in d:\\fe\\python\\python311\\lib\\site-packages (from jinja2->torch) (3.0.2)\n",
      "Note: you may need to restart the kernel to use updated packages.\n"
     ]
    },
    {
     "name": "stderr",
     "output_type": "stream",
     "text": [
      "WARNING: Ignoring invalid distribution ~orch (d:\\FE\\Python\\Python311\\Lib\\site-packages)\n",
      "WARNING: Ignoring invalid distribution ~orch (d:\\FE\\Python\\Python311\\Lib\\site-packages)\n",
      "WARNING: Ignoring invalid distribution ~orch (d:\\FE\\Python\\Python311\\Lib\\site-packages)\n"
     ]
    }
   ],
   "source": [
    "pip install --upgrade torch"
   ]
  },
  {
   "cell_type": "code",
   "execution_count": 5,
   "metadata": {},
   "outputs": [
    {
     "name": "stdout",
     "output_type": "stream",
     "text": [
      "Collecting git+https://github.com/openai/whisper.git\n",
      "  Cloning https://github.com/openai/whisper.git to c:\\users\\user\\appdata\\local\\temp\\pip-req-build-ijhuwp0c\n",
      "  Resolved https://github.com/openai/whisper.git to commit 517a43ecd132a2089d85f4ebc044728a71d49f6e\n",
      "  Installing build dependencies: started\n",
      "  Installing build dependencies: finished with status 'done'\n",
      "  Getting requirements to build wheel: started\n",
      "  Getting requirements to build wheel: finished with status 'done'\n",
      "  Preparing metadata (pyproject.toml): started\n",
      "  Preparing metadata (pyproject.toml): finished with status 'done'\n",
      "Requirement already satisfied: more-itertools in d:\\fe\\python\\python311\\lib\\site-packages (from openai-whisper==20240930) (10.6.0)\n",
      "Requirement already satisfied: numba in d:\\fe\\python\\python311\\lib\\site-packages (from openai-whisper==20240930) (0.61.0)\n",
      "Requirement already satisfied: numpy in d:\\fe\\python\\python311\\lib\\site-packages (from openai-whisper==20240930) (1.26.3)\n",
      "Requirement already satisfied: tiktoken in d:\\fe\\python\\python311\\lib\\site-packages (from openai-whisper==20240930) (0.8.0)\n",
      "Requirement already satisfied: torch in d:\\fe\\python\\python311\\lib\\site-packages (from openai-whisper==20240930) (2.6.0)\n",
      "Requirement already satisfied: tqdm in d:\\fe\\python\\python311\\lib\\site-packages (from openai-whisper==20240930) (4.67.1)\n",
      "Requirement already satisfied: llvmlite<0.45,>=0.44.0dev0 in d:\\fe\\python\\python311\\lib\\site-packages (from numba->openai-whisper==20240930) (0.44.0)\n",
      "Requirement already satisfied: regex>=2022.1.18 in d:\\fe\\python\\python311\\lib\\site-packages (from tiktoken->openai-whisper==20240930) (2024.11.6)\n",
      "Requirement already satisfied: requests>=2.26.0 in d:\\fe\\python\\python311\\lib\\site-packages (from tiktoken->openai-whisper==20240930) (2.32.3)\n",
      "Requirement already satisfied: filelock in d:\\fe\\python\\python311\\lib\\site-packages (from torch->openai-whisper==20240930) (3.13.1)\n",
      "Requirement already satisfied: typing-extensions>=4.10.0 in d:\\fe\\python\\python311\\lib\\site-packages (from torch->openai-whisper==20240930) (4.12.2)\n",
      "Requirement already satisfied: networkx in d:\\fe\\python\\python311\\lib\\site-packages (from torch->openai-whisper==20240930) (3.2.1)\n",
      "Requirement already satisfied: jinja2 in d:\\fe\\python\\python311\\lib\\site-packages (from torch->openai-whisper==20240930) (3.1.5)\n",
      "Requirement already satisfied: fsspec in d:\\fe\\python\\python311\\lib\\site-packages (from torch->openai-whisper==20240930) (2024.2.0)\n",
      "Requirement already satisfied: sympy==1.13.1 in d:\\fe\\python\\python311\\lib\\site-packages (from torch->openai-whisper==20240930) (1.13.1)\n",
      "Requirement already satisfied: mpmath<1.4,>=1.1.0 in d:\\fe\\python\\python311\\lib\\site-packages (from sympy==1.13.1->torch->openai-whisper==20240930) (1.3.0)\n",
      "Requirement already satisfied: colorama in d:\\fe\\python\\python311\\lib\\site-packages (from tqdm->openai-whisper==20240930) (0.4.6)\n",
      "Requirement already satisfied: charset-normalizer<4,>=2 in d:\\fe\\python\\python311\\lib\\site-packages (from requests>=2.26.0->tiktoken->openai-whisper==20240930) (3.4.1)\n",
      "Requirement already satisfied: idna<4,>=2.5 in d:\\fe\\python\\python311\\lib\\site-packages (from requests>=2.26.0->tiktoken->openai-whisper==20240930) (3.10)\n",
      "Requirement already satisfied: urllib3<3,>=1.21.1 in d:\\fe\\python\\python311\\lib\\site-packages (from requests>=2.26.0->tiktoken->openai-whisper==20240930) (2.3.0)\n",
      "Requirement already satisfied: certifi>=2017.4.17 in d:\\fe\\python\\python311\\lib\\site-packages (from requests>=2.26.0->tiktoken->openai-whisper==20240930) (2024.12.14)\n",
      "Requirement already satisfied: MarkupSafe>=2.0 in d:\\fe\\python\\python311\\lib\\site-packages (from jinja2->torch->openai-whisper==20240930) (3.0.2)\n",
      "Note: you may need to restart the kernel to use updated packages.\n"
     ]
    },
    {
     "name": "stderr",
     "output_type": "stream",
     "text": [
      "  Running command git clone --filter=blob:none --quiet https://github.com/openai/whisper.git 'C:\\Users\\USER\\AppData\\Local\\Temp\\pip-req-build-ijhuwp0c'\n"
     ]
    }
   ],
   "source": [
    "pip install git+https://github.com/openai/whisper.git"
   ]
  },
  {
   "cell_type": "code",
   "execution_count": 7,
   "metadata": {},
   "outputs": [
    {
     "name": "stdout",
     "output_type": "stream",
     "text": [
      "Collecting git+https://github.com/librosa/librosa\n",
      "  Cloning https://github.com/librosa/librosa to c:\\users\\user\\appdata\\local\\temp\\pip-req-build-5s_044du\n",
      "  Resolved https://github.com/librosa/librosa to commit 9ec4f4b73208159454477df7fff8ff60cdf3b47a\n",
      "  Installing build dependencies: started\n",
      "  Installing build dependencies: finished with status 'done'\n",
      "  Getting requirements to build wheel: started\n",
      "  Getting requirements to build wheel: finished with status 'done'\n",
      "  Preparing metadata (pyproject.toml): started\n",
      "  Preparing metadata (pyproject.toml): finished with status 'done'\n",
      "Requirement already satisfied: audioread>=2.1.9 in d:\\fe\\python\\python311\\lib\\site-packages (from librosa==0.11.0rc1) (3.0.1)\n",
      "Requirement already satisfied: numba>=0.51.0 in d:\\fe\\python\\python311\\lib\\site-packages (from librosa==0.11.0rc1) (0.61.0)\n",
      "Requirement already satisfied: numpy>=1.22.3 in d:\\fe\\python\\python311\\lib\\site-packages (from librosa==0.11.0rc1) (1.26.3)\n",
      "Requirement already satisfied: scipy>=1.6.0 in d:\\fe\\python\\python311\\lib\\site-packages (from librosa==0.11.0rc1) (1.14.1)\n",
      "Requirement already satisfied: scikit-learn>=1.1.0 in d:\\fe\\python\\python311\\lib\\site-packages (from librosa==0.11.0rc1) (1.6.1)\n",
      "Requirement already satisfied: joblib>=1.0 in d:\\fe\\python\\python311\\lib\\site-packages (from librosa==0.11.0rc1) (1.4.2)\n",
      "Requirement already satisfied: decorator>=4.3.0 in d:\\fe\\python\\python311\\lib\\site-packages (from librosa==0.11.0rc1) (5.1.1)\n",
      "Requirement already satisfied: soundfile>=0.12.1 in d:\\fe\\python\\python311\\lib\\site-packages (from librosa==0.11.0rc1) (0.13.1)\n",
      "Requirement already satisfied: pooch>=1.1 in d:\\fe\\python\\python311\\lib\\site-packages (from librosa==0.11.0rc1) (1.8.2)\n",
      "Requirement already satisfied: soxr>=0.3.2 in d:\\fe\\python\\python311\\lib\\site-packages (from librosa==0.11.0rc1) (0.5.0.post1)\n",
      "Requirement already satisfied: typing_extensions>=4.1.1 in d:\\fe\\python\\python311\\lib\\site-packages (from librosa==0.11.0rc1) (4.12.2)\n",
      "Requirement already satisfied: lazy_loader>=0.1 in d:\\fe\\python\\python311\\lib\\site-packages (from librosa==0.11.0rc1) (0.4)\n",
      "Requirement already satisfied: msgpack>=1.0 in d:\\fe\\python\\python311\\lib\\site-packages (from librosa==0.11.0rc1) (1.1.0)\n",
      "Requirement already satisfied: packaging in d:\\fe\\python\\python311\\lib\\site-packages (from lazy_loader>=0.1->librosa==0.11.0rc1) (23.2)\n",
      "Requirement already satisfied: llvmlite<0.45,>=0.44.0dev0 in d:\\fe\\python\\python311\\lib\\site-packages (from numba>=0.51.0->librosa==0.11.0rc1) (0.44.0)\n",
      "Requirement already satisfied: platformdirs>=2.5.0 in d:\\fe\\python\\python311\\lib\\site-packages (from pooch>=1.1->librosa==0.11.0rc1) (4.3.6)\n",
      "Requirement already satisfied: requests>=2.19.0 in d:\\fe\\python\\python311\\lib\\site-packages (from pooch>=1.1->librosa==0.11.0rc1) (2.32.3)\n",
      "Requirement already satisfied: threadpoolctl>=3.1.0 in d:\\fe\\python\\python311\\lib\\site-packages (from scikit-learn>=1.1.0->librosa==0.11.0rc1) (3.5.0)\n",
      "Requirement already satisfied: cffi>=1.0 in d:\\fe\\python\\python311\\lib\\site-packages (from soundfile>=0.12.1->librosa==0.11.0rc1) (1.17.1)\n",
      "Requirement already satisfied: pycparser in d:\\fe\\python\\python311\\lib\\site-packages (from cffi>=1.0->soundfile>=0.12.1->librosa==0.11.0rc1) (2.22)\n",
      "Requirement already satisfied: charset-normalizer<4,>=2 in d:\\fe\\python\\python311\\lib\\site-packages (from requests>=2.19.0->pooch>=1.1->librosa==0.11.0rc1) (3.4.1)\n",
      "Requirement already satisfied: idna<4,>=2.5 in d:\\fe\\python\\python311\\lib\\site-packages (from requests>=2.19.0->pooch>=1.1->librosa==0.11.0rc1) (3.10)\n",
      "Requirement already satisfied: urllib3<3,>=1.21.1 in d:\\fe\\python\\python311\\lib\\site-packages (from requests>=2.19.0->pooch>=1.1->librosa==0.11.0rc1) (2.3.0)\n",
      "Requirement already satisfied: certifi>=2017.4.17 in d:\\fe\\python\\python311\\lib\\site-packages (from requests>=2.19.0->pooch>=1.1->librosa==0.11.0rc1) (2024.12.14)\n",
      "Building wheels for collected packages: librosa\n",
      "  Building wheel for librosa (pyproject.toml): started\n",
      "  Building wheel for librosa (pyproject.toml): finished with status 'done'\n",
      "  Created wheel for librosa: filename=librosa-0.11.0rc1-py3-none-any.whl size=262938 sha256=f151b2cde86a10a3214e93296c9a7299a818f254e63c28fe2c5f003b02288fd6\n",
      "  Stored in directory: C:\\Users\\USER\\AppData\\Local\\Temp\\pip-ephem-wheel-cache-avusuxrk\\wheels\\d6\\c4\\f0\\6bffc777ecfbd8e6852bf0bc2d87ac3972ab9694b080fe30b5\n",
      "Successfully built librosa\n",
      "Installing collected packages: librosa\n",
      "  Attempting uninstall: librosa\n",
      "    Found existing installation: librosa 0.11.0rc1\n",
      "    Uninstalling librosa-0.11.0rc1:\n",
      "      Successfully uninstalled librosa-0.11.0rc1\n",
      "Successfully installed librosa-0.11.0rc1\n",
      "Note: you may need to restart the kernel to use updated packages.\n"
     ]
    },
    {
     "name": "stderr",
     "output_type": "stream",
     "text": [
      "  Running command git clone --filter=blob:none --quiet https://github.com/librosa/librosa 'C:\\Users\\USER\\AppData\\Local\\Temp\\pip-req-build-5s_044du'\n",
      "  Running command git submodule update --init --recursive -q\n"
     ]
    }
   ],
   "source": [
    "pip install git+https://github.com/librosa/librosa"
   ]
  },
  {
   "cell_type": "markdown",
   "metadata": {},
   "source": [
    "Importing Required Libraries\n"
   ]
  },
  {
   "cell_type": "code",
   "execution_count": 8,
   "metadata": {},
   "outputs": [
    {
     "name": "stderr",
     "output_type": "stream",
     "text": [
      "d:\\FE\\Python\\Python311\\Lib\\site-packages\\tqdm\\auto.py:21: TqdmWarning: IProgress not found. Please update jupyter and ipywidgets. See https://ipywidgets.readthedocs.io/en/stable/user_install.html\n",
      "  from .autonotebook import tqdm as notebook_tqdm\n"
     ]
    }
   ],
   "source": [
    "import torch\n",
    "import whisper\n",
    "import librosa\n",
    "import matplotlib.pyplot as plt\n",
    "import numpy as np\n",
    "import IPython.display as ipd\n",
    "import jiwer  \n",
    "import AudioInfo\n",
    "import yt_dlp\n",
    "import os\n",
    "import json\n",
    "import soundfile as sf\n",
    "import noisereduce as nr\n",
    "import tkinter\n",
    "from tkinter import ttk, scrolledtext\n",
    "from urllib.parse import urlparse\n",
    "from youtube_transcript_api import YouTubeTranscriptApi"
   ]
  },
  {
   "cell_type": "markdown",
   "metadata": {},
   "source": [
    "Loading the models\n"
   ]
  },
  {
   "cell_type": "code",
   "execution_count": 9,
   "metadata": {},
   "outputs": [],
   "source": [
    "device = 'cuda' if torch.cuda.is_available() else 'cpu'\n",
    "model_t = whisper.load_model(\"small\").to(device)"
   ]
  },
  {
   "cell_type": "code",
   "execution_count": 1,
   "metadata": {},
   "outputs": [],
   "source": [
    "def downloadAudioFromYoutubeLink(_targetUrl, _outputFile=\"audio.mp3\"):\n",
    "    ydl_opts = {\n",
    "        'format': 'bestaudio/best',  # Choose the best available audio format\n",
    "        'outtmpl': _outputFile,  # Set the output filename\n",
    "        'noplaylist': True, # only download single video if it's a playlist\n",
    "    }\n",
    "    try:\n",
    "        if os.path.exists(_outputFile):\n",
    "            os.remove(_outputFile)\n",
    "        with yt_dlp.YoutubeDL(ydl_opts) as ydl:\n",
    "            ydl.download([_targetUrl])\n",
    "        print(f\"Audio downloaded successfully to {_outputFile}\")\n",
    "        return _outputFile \n",
    "    except Exception as e:\n",
    "        print(f\"An error occurred: {e}\")\n",
    "        return None "
   ]
  },
  {
   "cell_type": "code",
   "execution_count": null,
   "metadata": {},
   "outputs": [
    {
     "ename": "NameError",
     "evalue": "name 'tkinter' is not defined",
     "output_type": "error",
     "traceback": [
      "\u001b[1;31m---------------------------------------------------------------------------\u001b[0m",
      "\u001b[1;31mNameError\u001b[0m                                 Traceback (most recent call last)",
      "Cell \u001b[1;32mIn[3], line 46\u001b[0m\n\u001b[0;32m     43\u001b[0m     window\u001b[38;5;241m.\u001b[39mmainloop()\n\u001b[0;32m     44\u001b[0m     \u001b[38;5;28;01mreturn\u001b[39;00m video_url, file_path\n\u001b[1;32m---> 46\u001b[0m video_url, file_path \u001b[38;5;241m=\u001b[39m \u001b[43mpopupInputLinkFileName\u001b[49m\u001b[43m(\u001b[49m\u001b[43m)\u001b[49m\n\u001b[0;32m     47\u001b[0m video_url \u001b[38;5;241m=\u001b[39m video_url[\u001b[38;5;241m0\u001b[39m:video_url\u001b[38;5;241m.\u001b[39mindex(\u001b[38;5;124m'\u001b[39m\u001b[38;5;124m&\u001b[39m\u001b[38;5;124m'\u001b[39m)] \u001b[38;5;28;01mif\u001b[39;00m \u001b[38;5;124m'\u001b[39m\u001b[38;5;124m&\u001b[39m\u001b[38;5;124m'\u001b[39m \u001b[38;5;129;01min\u001b[39;00m video_url \u001b[38;5;28;01melse\u001b[39;00m video_url\n",
      "Cell \u001b[1;32mIn[3], line 21\u001b[0m, in \u001b[0;36mpopupInputLinkFileName\u001b[1;34m()\u001b[0m\n\u001b[0;32m     18\u001b[0m     ket_qua_label\u001b[38;5;241m.\u001b[39mconfig(text\u001b[38;5;241m=\u001b[39m\u001b[38;5;124mf\u001b[39m\u001b[38;5;124m\"\u001b[39m\u001b[38;5;124mLink: \u001b[39m\u001b[38;5;132;01m{\u001b[39;00mvideo_url\u001b[38;5;132;01m}\u001b[39;00m\u001b[38;5;130;01m\\n\u001b[39;00m\u001b[38;5;124m Tên file: \u001b[39m\u001b[38;5;132;01m{\u001b[39;00mfile_path\u001b[38;5;132;01m}\u001b[39;00m\u001b[38;5;124m\"\u001b[39m)\n\u001b[0;32m     19\u001b[0m     window\u001b[38;5;241m.\u001b[39mdestroy()\n\u001b[1;32m---> 21\u001b[0m window \u001b[38;5;241m=\u001b[39m \u001b[43mtkinter\u001b[49m\u001b[38;5;241m.\u001b[39mTk()\n\u001b[0;32m     22\u001b[0m window\u001b[38;5;241m.\u001b[39mtitle(\u001b[38;5;124m\"\u001b[39m\u001b[38;5;124mNhập thông tin\u001b[39m\u001b[38;5;124m\"\u001b[39m)\n\u001b[0;32m     24\u001b[0m \u001b[38;5;66;03m# Nhãn và hộp nhập liệu cho tên\u001b[39;00m\n",
      "\u001b[1;31mNameError\u001b[0m: name 'tkinter' is not defined"
     ]
    }
   ],
   "source": [
    "def popupInputLinkFileName():\n",
    "    \"\"\"Tạo cửa sổ GUI để nhập tên và tuổi.\"\"\"\n",
    "    def getInfo():\n",
    "        global video_url, file_path\n",
    "        video_url = entryLink.get()\n",
    "        file_path = entryFileName.get()\n",
    "        if file_path is None or video_url is None:  # Check if file_path is None\n",
    "            ket_qua_label.config(text=\"Tên file và link không được để trống.\")\n",
    "            return\n",
    "        if not file_path.endswith('.mp3'):\n",
    "            ket_qua_label.config(text=\"Tên file phải kết thúc bằng .mp3\")\n",
    "            return\n",
    "        video_url = video_url[0:video_url.index('&')] if '&' in video_url else video_url\n",
    "        file_path = downloadAudioFromYoutubeLink(video_url, file_path)\n",
    "        if file_path == None:\n",
    "            ket_qua_label.config(text=\"Link không đúng.\")\n",
    "            return\n",
    "        ket_qua_label.config(text=f\"Link: {video_url}\\n Tên file: {file_path}\")\n",
    "        window.destroy()\n",
    "\n",
    "    window = tkinter.Tk()\n",
    "    window.title(\"Nhập thông tin\")\n",
    "\n",
    "    # Nhãn và hộp nhập liệu cho tên\n",
    "    tkinter.Label(window, text=\"Đường dẫn liên kết:\").pack()\n",
    "    entryLink = tkinter.Entry(window)\n",
    "    entryLink.pack()\n",
    "\n",
    "    # Nhãn và hộp nhập liệu cho tuổi\n",
    "    tkinter.Label(window, text=\"Tên file mong muốn:\").pack()\n",
    "    entryFileName = tkinter.Entry(window)\n",
    "    entryFileName.pack()\n",
    "    entryFileName.setvar(\"abc\")\n",
    "\n",
    "    # Nút bấm để lấy thông tin\n",
    "    button = tkinter.Button(window, text=\"Lấy thông tin\", command=getInfo)\n",
    "    button.pack()\n",
    "\n",
    "    # Nhãn để hiển thị kết quả\n",
    "    ket_qua_label = tkinter.Label(window, text='')\n",
    "    ket_qua_label.pack()\n",
    "\n",
    "    window.mainloop()\n",
    "    return video_url, file_path\n",
    "\n",
    "video_url, file_path = popupInputLinkFileName()\n",
    "\n",
    "video_url = video_url[0:video_url.index('&')] if '&' in video_url else video_url"
   ]
  },
  {
   "cell_type": "code",
   "execution_count": null,
   "metadata": {},
   "outputs": [],
   "source": [
    "def boLocNhieu(_filePath):\n",
    "    audio, sr = librosa.load(_filePath, sr=16000)\n",
    "    \n",
    "    # Lấy một phần tín hiệu làm noise profile (VD: đoạn đầu tiên)\n",
    "    noise_part = audio[-16000:]\n",
    "\n",
    "    # Áp dụng bộ lọc giảm nhiễu\n",
    "    denoised_audio = nr.reduce_noise(y=audio, sr=sr, y_noise=noise_part, prop_decrease=0.5)\n",
    "\n",
    "    sf.write(_filePath.replace('.mp3', '_1.mp3'), denoised_audio, sr)\n",
    "     # Vẽ đồ thị\n",
    "    plt.figure(figsize=(12, 6))\n",
    "\n",
    "    plt.subplot(2, 1, 1)\n",
    "    librosa.display.waveshow(audio, sr=sr, alpha=0.5, color='r')\n",
    "    plt.title(\"Tín hiệu gốc (Original Audio)\")\n",
    "    plt.xlabel(\"Time (s)\")\n",
    "    plt.ylabel(\"Amplitude\")\n",
    "\n",
    "    plt.subplot(2, 1, 2)\n",
    "    librosa.display.waveshow(denoised_audio, sr=sr, alpha=0.5, color='b')\n",
    "    plt.title(\"Tín hiệu sau lọc nhiễu (Denoised Audio)\")\n",
    "    plt.xlabel(\"Time (s)\")\n",
    "    plt.ylabel(\"Amplitude\")\n",
    "\n",
    "    plt.tight_layout()\n",
    "    plt.show()\n",
    "    \n",
    "AudioInfo.boLocNhieu(file_path)"
   ]
  },
  {
   "cell_type": "code",
   "execution_count": null,
   "metadata": {},
   "outputs": [],
   "source": []
  }
 ],
 "metadata": {
  "kernelspec": {
   "display_name": "Python 3",
   "language": "python",
   "name": "python3"
  },
  "language_info": {
   "codemirror_mode": {
    "name": "ipython",
    "version": 3
   },
   "file_extension": ".py",
   "mimetype": "text/x-python",
   "name": "python",
   "nbconvert_exporter": "python",
   "pygments_lexer": "ipython3",
   "version": "3.11.9"
  }
 },
 "nbformat": 4,
 "nbformat_minor": 2
}
